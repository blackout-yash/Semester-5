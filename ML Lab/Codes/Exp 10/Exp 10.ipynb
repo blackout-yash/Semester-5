{
 "cells":[
  {
   "cell_type":"code",
   "source":[
    "data = [\n",
    "        ['T100',['I1','I2','I5']],\n",
    "        ['T200',['I2','I4']],\n",
    "        ['T300',['I2','I3']],\n",
    "        ['T400',['I1','I2','I4']],\n",
    "        ['T500',['I1','I3']],\n",
    "        ['T600',['I2','I3']],\n",
    "        ['T700',['I1','I3']],\n",
    "        ['T800',['I1','I2','I3','I5']],\n",
    "        ['T900',['I1','I2','I3']]\n",
    "        ]\n",
    "init = []\n",
    "for i in data:\n",
    "    for q in i[1]:\n",
    "        if(q not in init):\n",
    "            init.append(q)\n",
    "init = sorted(init)\n",
    "print(init)"
   ],
   "execution_count":1,
   "outputs":[
    {
     "name":"stdout",
     "text":[
      "['I1', 'I2', 'I3', 'I4', 'I5']\n"
     ],
     "output_type":"stream"
    }
   ],
   "metadata":{
    "datalore":{
     "node_id":"BNje1R2LU5P3oavCjS89Ex",
     "type":"CODE",
     "hide_input_from_viewers":false,
     "hide_output_from_viewers":false
    }
   }
  },
  {
   "cell_type":"code",
   "source":[
    "sp = 0.4\n",
    "s = int(sp*len(init))\n",
    "s"
   ],
   "execution_count":2,
   "outputs":[
    {
     "data":{
      "text\/plain":[
       "2"
      ]
     },
     "metadata":{
      
     },
     "output_type":"display_data"
    }
   ],
   "metadata":{
    "datalore":{
     "node_id":"Umk87QjjkMxjGHkPxVhkqX",
     "type":"CODE",
     "hide_input_from_viewers":false,
     "hide_output_from_viewers":false
    }
   }
  },
  {
   "cell_type":"code",
   "source":[
    "from collections import Counter\n",
    "c = Counter()\n",
    "for i in init:\n",
    "    for d in data:\n",
    "        if(i in d[1]):\n",
    "            c[i]+=1\n",
    "print(\"C1:\")\n",
    "for i in c:\n",
    "    print(str([i])+\": \"+str(c[i]))\n",
    "print()\n",
    "l = Counter()\n",
    "for i in c:\n",
    "    if(c[i] >= s):\n",
    "        l[frozenset([i])]+=c[i]\n",
    "print(\"L1:\")\n",
    "for i in l:\n",
    "    print(str(list(i))+\": \"+str(l[i]))\n",
    "print()\n",
    "pl = l\n",
    "pos = 1\n",
    "for count in range (2,1000):\n",
    "    nc = set()\n",
    "    temp = list(l)\n",
    "    for i in range(0,len(temp)):\n",
    "        for j in range(i+1,len(temp)):\n",
    "            t = temp[i].union(temp[j])\n",
    "            if(len(t) == count):\n",
    "                nc.add(temp[i].union(temp[j]))\n",
    "    nc = list(nc)\n",
    "    c = Counter()\n",
    "    for i in nc:\n",
    "        c[i] = 0\n",
    "        for q in data:\n",
    "            temp = set(q[1])\n",
    "            if(i.issubset(temp)):\n",
    "                c[i]+=1\n",
    "    print(\"C\"+str(count)+\":\")\n",
    "    for i in c:\n",
    "        print(str(list(i))+\": \"+str(c[i]))\n",
    "    print()\n",
    "    l = Counter()\n",
    "    for i in c:\n",
    "        if(c[i] >= s):\n",
    "            l[i]+=c[i]\n",
    "    print(\"L\"+str(count)+\":\")\n",
    "    for i in l:\n",
    "        print(str(list(i))+\": \"+str(l[i]))\n",
    "    print()\n",
    "    if(len(l) == 0):\n",
    "        break\n",
    "    pl = l\n",
    "    pos = count\n",
    "print(\"Result: \")\n",
    "print(\"L\"+str(pos)+\":\")\n",
    "for i in pl:\n",
    "    print(str(list(i))+\": \"+str(pl[i]))\n",
    "print()"
   ],
   "execution_count":3,
   "outputs":[
    {
     "name":"stdout",
     "text":[
      "C1:\n",
      "['I1']: 6\n",
      "['I2']: 7\n",
      "['I3']: 6\n",
      "['I4']: 2\n",
      "['I5']: 2\n",
      "\n",
      "L1:\n",
      "['I1']: 6\n",
      "['I2']: 7\n",
      "['I3']: 6\n",
      "['I4']: 2\n",
      "['I5']: 2\n",
      "\n",
      "C2:\n",
      "['I3', 'I1']: 4\n",
      "['I3', 'I2']: 4\n",
      "['I5', 'I1']: 2\n",
      "['I5', 'I2']: 2\n",
      "['I1', 'I2']: 4\n",
      "['I5', 'I3']: 1\n",
      "['I3', 'I4']: 0\n",
      "['I5', 'I4']: 0\n",
      "['I4', 'I2']: 2\n",
      "['I4', 'I1']: 1\n",
      "\n",
      "L2:\n",
      "['I3', 'I1']: 4\n",
      "['I3', 'I2']: 4\n",
      "['I5', 'I1']: 2\n",
      "['I5', 'I2']: 2\n",
      "['I1', 'I2']: 4\n",
      "['I4', 'I2']: 2\n",
      "\n",
      "C3:\n",
      "['I4', 'I1', 'I2']: 1\n",
      "['I3', 'I4', 'I2']: 0\n",
      "['I5', 'I4', 'I2']: 0\n",
      "['I5', 'I3', 'I1']: 1\n",
      "['I5', 'I3', 'I2']: 1\n",
      "['I5', 'I1', 'I2']: 2\n",
      "['I3', 'I1', 'I2']: 2\n",
      "\n",
      "L3:\n",
      "['I5', 'I1', 'I2']: 2\n",
      "['I3', 'I1', 'I2']: 2\n",
      "\n",
      "C4:\n",
      "['I2', 'I5', 'I3', 'I1']: 1\n",
      "\n",
      "L4:\n",
      "\n",
      "Result: \n",
      "L3:\n",
      "['I5', 'I1', 'I2']: 2\n",
      "['I3', 'I1', 'I2']: 2\n",
      "\n"
     ],
     "output_type":"stream"
    }
   ],
   "metadata":{
    "datalore":{
     "node_id":"fo0YD50idDR0dqKNkUbw7y",
     "type":"CODE",
     "hide_input_from_viewers":false,
     "hide_output_from_viewers":false
    }
   }
  },
  {
   "cell_type":"code",
   "source":[
    "from itertools import combinations\n",
    "for l in pl:\n",
    "    c = [frozenset(q) for q in combinations(l,len(l)-1)]\n",
    "    mmax = 0\n",
    "    for a in c:\n",
    "        b = l-a\n",
    "        ab = l\n",
    "        sab = 0\n",
    "        sa = 0\n",
    "        sb = 0\n",
    "        for q in data:\n",
    "            temp = set(q[1])\n",
    "            if(a.issubset(temp)):\n",
    "                sa+=1\n",
    "            if(b.issubset(temp)):\n",
    "                sb+=1\n",
    "            if(ab.issubset(temp)):\n",
    "                sab+=1\n",
    "        temp = sab\/sa*100\n",
    "        if(temp > mmax):\n",
    "            mmax = temp\n",
    "        temp = sab\/sb*100\n",
    "        if(temp > mmax):\n",
    "            mmax = temp\n",
    "        print(str(list(a))+\" -> \"+str(list(b))+\" = \"+str(sab\/sa*100)+\"%\")\n",
    "        print(str(list(b))+\" -> \"+str(list(a))+\" = \"+str(sab\/sb*100)+\"%\")\n",
    "    curr = 1\n",
    "    print(\"choosing:\", end=' ')\n",
    "    for a in c:\n",
    "        b = l-a\n",
    "        ab = l\n",
    "        sab = 0\n",
    "        sa = 0\n",
    "        sb = 0\n",
    "        for q in data:\n",
    "            temp = set(q[1])\n",
    "            if(a.issubset(temp)):\n",
    "                sa+=1\n",
    "            if(b.issubset(temp)):\n",
    "                sb+=1\n",
    "            if(ab.issubset(temp)):\n",
    "                sab+=1\n",
    "        temp = sab\/sa*100\n",
    "        if(temp == mmax):\n",
    "            print(curr, end = ' ')\n",
    "        curr += 1\n",
    "        temp = sab\/sb*100\n",
    "        if(temp == mmax):\n",
    "            print(curr, end = ' ')\n",
    "        curr += 1\n",
    "    print()\n",
    "    print()"
   ],
   "execution_count":4,
   "outputs":[
    {
     "name":"stdout",
     "text":[
      "['I5', 'I1'] -> ['I2'] = 100.0%\n",
      "['I2'] -> ['I5', 'I1'] = 28.57142857142857%\n",
      "['I5', 'I2'] -> ['I1'] = 100.0%\n",
      "['I1'] -> ['I5', 'I2'] = 33.33333333333333%\n",
      "['I1', 'I2'] -> ['I5'] = 50.0%\n",
      "['I5'] -> ['I1', 'I2'] = 100.0%\n",
      "choosing: 1 3 6 \n",
      "\n",
      "['I3', 'I1'] -> ['I2'] = 50.0%\n",
      "['I2'] -> ['I3', 'I1'] = 28.57142857142857%\n",
      "['I3', 'I2'] -> ['I1'] = 50.0%\n",
      "['I1'] -> ['I3', 'I2'] = 33.33333333333333%\n",
      "['I1', 'I2'] -> ['I3'] = 50.0%\n",
      "['I3'] -> ['I1', 'I2'] = 33.33333333333333%\n",
      "choosing: 1 3 5 \n",
      "\n"
     ],
     "output_type":"stream"
    }
   ],
   "metadata":{
    "datalore":{
     "node_id":"IJH0TAROhpkJPx4JOPBb94",
     "type":"CODE",
     "hide_input_from_viewers":false,
     "hide_output_from_viewers":false
    }
   }
  }
 ],
 "metadata":{
  "kernelspec":{
   "display_name":"Python",
   "language":"python",
   "name":"python"
  },
  "datalore":{
   "version":1,
   "computation_mode":"JUPYTER",
   "package_manager":"pip",
   "base_environment":"default",
   "packages":[
    
   ]
  }
 },
 "nbformat":4,
 "nbformat_minor":4
}