{
 "cells":[
  {
   "cell_type":"markdown",
   "source":[
    "Importing and defining Binary Dataset for Naive Bayes Classification"
   ],
   "attachments":{
    
   },
   "metadata":{
    "datalore":{
     "node_id":"1hqCvONa2uSoXnrZ9X0Wo0",
     "type":"MD",
     "hide_input_from_viewers":false,
     "hide_output_from_viewers":false
    }
   }
  },
  {
   "cell_type":"markdown",
   "source":[
    "Importing modules"
   ],
   "attachments":{
    
   },
   "metadata":{
    "datalore":{
     "node_id":"9AI3sKjqOKoEp4VDNC0AKq",
     "type":"MD",
     "hide_input_from_viewers":false,
     "hide_output_from_viewers":false
    }
   }
  },
  {
   "cell_type":"code",
   "source":[
    "# importing the libraries\n",
    "import numpy as np\n",
    "import matplotlib.pyplot as plt\n",
    "import pandas as pd\n",
    "import seaborn as sns"
   ],
   "execution_count":1,
   "outputs":[
    
   ],
   "metadata":{
    "datalore":{
     "node_id":"wjzrHJa4vBaZQqWd9BmdTZ",
     "type":"CODE",
     "hide_input_from_viewers":false,
     "hide_output_from_viewers":false
    }
   }
  },
  {
   "cell_type":"markdown",
   "source":[
    "Import dataset"
   ],
   "attachments":{
    
   },
   "metadata":{
    "datalore":{
     "node_id":"wWkMwKm3kZS7B0Y0CrxdF4",
     "type":"MD",
     "hide_input_from_viewers":false,
     "hide_output_from_viewers":false
    }
   }
  },
  {
   "cell_type":"code",
   "source":[
    "# importing the dataset\n",
    "dataset = pd.read_csv('NaiveBayes.csv')\n",
    "\n",
    "# split the data into inputs and outputs\n",
    "X = dataset.iloc[:, [0,1]].values\n",
    "y = dataset.iloc[:, 2].values"
   ],
   "execution_count":2,
   "outputs":[
    
   ],
   "metadata":{
    "datalore":{
     "node_id":"yzmukKPc50ovWXS0nGBEaT",
     "type":"CODE",
     "hide_input_from_viewers":false,
     "hide_output_from_viewers":false
    }
   }
  },
  {
   "cell_type":"markdown",
   "source":[
    "Splitting dataset"
   ],
   "attachments":{
    
   },
   "metadata":{
    "datalore":{
     "node_id":"xVEPHGqDb5o52zPEeGNxo9",
     "type":"MD",
     "hide_input_from_viewers":false,
     "hide_output_from_viewers":false
    }
   }
  },
  {
   "cell_type":"code",
   "source":[
    "# training and testing data\n",
    "from sklearn.model_selection import train_test_split\n",
    "\n",
    "# assign test data size 25%\n",
    "X_train, X_test, y_train, y_test =train_test_split(X,y,test_size= 0.25, random_state=0)"
   ],
   "execution_count":3,
   "outputs":[
    
   ],
   "metadata":{
    "datalore":{
     "node_id":"JsaP7qbovYqvwOfmEGQDSO",
     "type":"CODE",
     "hide_input_from_viewers":false,
     "hide_output_from_viewers":false
    }
   }
  },
  {
   "cell_type":"markdown",
   "source":[
    "scaling the dataset"
   ],
   "attachments":{
    
   },
   "metadata":{
    "datalore":{
     "node_id":"RGnrEFZnJ7LEdUTJ7h17g9",
     "type":"MD",
     "hide_input_from_viewers":false,
     "hide_output_from_viewers":false
    }
   }
  },
  {
   "cell_type":"code",
   "source":[
    "# importing standard scaler\n",
    "from sklearn.preprocessing import StandardScaler\n",
    "\n",
    "# scalling the input data\n",
    "sc_X = StandardScaler() \n",
    "X_train = sc_X.fit_transform(X_train)\n",
    "X_test = sc_X.fit_transform(X_test)"
   ],
   "execution_count":4,
   "outputs":[
    
   ],
   "metadata":{
    "datalore":{
     "node_id":"yxv09IX9467ATDnF7U8K6Z",
     "type":"CODE",
     "hide_input_from_viewers":false,
     "hide_output_from_viewers":false
    }
   }
  },
  {
   "cell_type":"markdown",
   "source":[
    "Training the model using Bernoulli Naive Bayes classifier"
   ],
   "attachments":{
    
   },
   "metadata":{
    "datalore":{
     "node_id":"DGkjLekVmqipQEsInxpLHk",
     "type":"MD",
     "hide_input_from_viewers":false,
     "hide_output_from_viewers":false
    }
   }
  },
  {
   "cell_type":"markdown",
   "source":[
    "Bernoulli NB"
   ],
   "attachments":{
    
   },
   "metadata":{
    "datalore":{
     "node_id":"d61sQnVv7kjTdpNRdGCbZs",
     "type":"MD",
     "hide_input_from_viewers":false,
     "hide_output_from_viewers":false
    }
   }
  },
  {
   "cell_type":"code",
   "source":[
    "from sklearn.naive_bayes import BernoulliNB\n",
    "\n",
    "# initializaing the NB\n",
    "classifer = BernoulliNB()\n",
    "\n",
    "# training the model\n",
    "classifer.fit(X_train, y_train)\n",
    "\n",
    "# testing the model\n",
    "y_pred = classifer.predict(X_test)"
   ],
   "execution_count":5,
   "outputs":[
    
   ],
   "metadata":{
    "datalore":{
     "node_id":"Bh1UkSdhO6hVeLWp9w3gdo",
     "type":"CODE",
     "hide_input_from_viewers":false,
     "hide_output_from_viewers":false
    }
   }
  },
  {
   "cell_type":"markdown",
   "source":[
    "Accuracy"
   ],
   "attachments":{
    
   },
   "metadata":{
    "datalore":{
     "node_id":"rtXeswtJ54yyjW8zOEtWXl",
     "type":"MD",
     "hide_input_from_viewers":false,
     "hide_output_from_viewers":false
    }
   }
  },
  {
   "cell_type":"code",
   "source":[
    "from sklearn.metrics import accuracy_score\n",
    "\n",
    "# printing the accuracy of the model\n",
    "print(accuracy_score(y_pred, y_test))"
   ],
   "execution_count":6,
   "outputs":[
    {
     "name":"stdout",
     "text":[
      "0.8\n"
     ],
     "output_type":"stream"
    }
   ],
   "metadata":{
    "datalore":{
     "node_id":"pfXG31xL6erQzyDEO3MoZ4",
     "type":"CODE",
     "hide_input_from_viewers":false,
     "hide_output_from_viewers":false
    }
   }
  },
  {
   "cell_type":"markdown",
   "source":[
    "Training model using Gaussian Naive Bayes Classifier"
   ],
   "attachments":{
    
   },
   "metadata":{
    "datalore":{
     "node_id":"UNnExMd3B8jdkFmWNb7MJq",
     "type":"MD",
     "hide_input_from_viewers":false,
     "hide_output_from_viewers":false
    }
   }
  },
  {
   "cell_type":"markdown",
   "source":[
    "Gaussian NB"
   ],
   "attachments":{
    
   },
   "metadata":{
    "datalore":{
     "node_id":"Xthrovhe4jNV2cOD0usRAp",
     "type":"MD",
     "hide_input_from_viewers":false,
     "hide_output_from_viewers":false
    }
   }
  },
  {
   "cell_type":"code",
   "source":[
    "# import Gaussian Naive Bayes classifier\n",
    "from sklearn.naive_bayes import GaussianNB\n",
    "\n",
    "# create a Gaussian Classifier\n",
    "classifer1 = GaussianNB()\n",
    "\n",
    "# training the model\n",
    "classifer1.fit(X_train, y_train)\n",
    "\n",
    "# testing the model\n",
    "y_pred1 = classifer1.predict(X_test)"
   ],
   "execution_count":7,
   "outputs":[
    
   ],
   "metadata":{
    "datalore":{
     "node_id":"X4txgAhdyeqqbwiKn8kHsu",
     "type":"CODE",
     "hide_input_from_viewers":false,
     "hide_output_from_viewers":false
    }
   }
  },
  {
   "cell_type":"markdown",
   "source":[
    "Accuracy"
   ],
   "attachments":{
    
   },
   "metadata":{
    "datalore":{
     "node_id":"y3qjXXZQhfC0xKDADDeqM9",
     "type":"MD",
     "hide_input_from_viewers":false,
     "hide_output_from_viewers":false
    }
   }
  },
  {
   "cell_type":"code",
   "source":[
    "# importing accuracy score\n",
    "from sklearn.metrics import accuracy_score\n",
    "\n",
    "# printing the accuracy of the model\n",
    "print(accuracy_score(y_test,y_pred1))"
   ],
   "execution_count":8,
   "outputs":[
    {
     "name":"stdout",
     "text":[
      "0.91\n"
     ],
     "output_type":"stream"
    }
   ],
   "metadata":{
    "datalore":{
     "node_id":"GY1tMDaVAttEuvz9zTrkfE",
     "type":"CODE",
     "hide_input_from_viewers":false,
     "hide_output_from_viewers":false
    }
   }
  },
  {
   "cell_type":"markdown",
   "source":[
    "Evaluating Naive Bayes Classification performance\n",
    "\n",
    "Confusion Matrix for Binary classification"
   ],
   "attachments":{
    
   },
   "metadata":{
    "datalore":{
     "node_id":"7sbmmt1Ey6CBkFz3vFV4uO",
     "type":"MD",
     "hide_input_from_viewers":false,
     "hide_output_from_viewers":false
    }
   }
  },
  {
   "cell_type":"markdown",
   "source":[
    "Confusion matrix"
   ],
   "attachments":{
    
   },
   "metadata":{
    "datalore":{
     "node_id":"d72G4fomMyOzcYuZ4YQyXZ",
     "type":"MD",
     "hide_input_from_viewers":false,
     "hide_output_from_viewers":false
    }
   }
  },
  {
   "cell_type":"code",
   "source":[
    "# importing the required modules\n",
    "import seaborn as sns\n",
    "from sklearn.metrics import confusion_matrix\n",
    "\n",
    "# passing actual and predicted values\n",
    "cm = confusion_matrix(y_test, y_pred)\n",
    "\n",
    "# true write data values in each cell of the matrix\n",
    "sns.heatmap(cm, annot=True)\n",
    "plt.savefig('confusion.png')"
   ],
   "execution_count":9,
   "outputs":[
    {
     "data":{
      "image\/png":"[encoded data removed]"
     },
     "metadata":{
      "image\/png":{
       
      }
     },
     "output_type":"display_data"
    }
   ],
   "metadata":{
    "datalore":{
     "node_id":"6jYBQmMUwk9AHZ9PmsUJ1A",
     "type":"CODE",
     "hide_input_from_viewers":false,
     "hide_output_from_viewers":false
    }
   }
  },
  {
   "cell_type":"markdown",
   "source":[
    "Classification report"
   ],
   "attachments":{
    
   },
   "metadata":{
    "datalore":{
     "node_id":"LVGXa6kljMiVWMCCUbM1De",
     "type":"MD",
     "hide_input_from_viewers":false,
     "hide_output_from_viewers":false
    }
   }
  },
  {
   "cell_type":"code",
   "source":[
    "# importing classification report\n",
    "from sklearn.metrics import classification_report\n",
    "\n",
    "# printing the report\n",
    "print(classification_report(y_test, y_pred))"
   ],
   "execution_count":10,
   "outputs":[
    {
     "name":"stdout",
     "text":[
      "              precision    recall  f1-score   support\n",
      "\n",
      "           0       0.82      0.91      0.86        68\n",
      "           1       0.75      0.56      0.64        32\n",
      "\n",
      "    accuracy                           0.80       100\n",
      "   macro avg       0.78      0.74      0.75       100\n",
      "weighted avg       0.79      0.80      0.79       100\n",
      "\n"
     ],
     "output_type":"stream"
    }
   ],
   "metadata":{
    "datalore":{
     "node_id":"G4PpJH45rPyTi8LAMzeSVh",
     "type":"CODE",
     "hide_input_from_viewers":false,
     "hide_output_from_viewers":false
    }
   }
  },
  {
   "cell_type":"markdown",
   "source":[
    "Evaluation of Gaussian Naive Bayes Classifier"
   ],
   "attachments":{
    
   },
   "metadata":{
    "datalore":{
     "node_id":"2SFiDYqieNkZQNY4zulLLt",
     "type":"MD",
     "hide_input_from_viewers":false,
     "hide_output_from_viewers":false
    }
   }
  },
  {
   "cell_type":"code",
   "source":[
    "# importing the required modules\n",
    "import seaborn as sns\n",
    "from sklearn.metrics import confusion_matrix\n",
    "\n",
    "# passing actual and predicted values\n",
    "cm = confusion_matrix(y_test, y_pred1)\n",
    "\n",
    "# true write data values in each cell of the matrix\n",
    "sns.heatmap(cm,annot=True)\n",
    "plt.savefig('confusion.png')"
   ],
   "execution_count":11,
   "outputs":[
    {
     "data":{
      "image\/png":"[encoded data removed]"
     },
     "metadata":{
      "image\/png":{
       
      }
     },
     "output_type":"display_data"
    }
   ],
   "metadata":{
    "datalore":{
     "node_id":"asCx5gxBp5bydH6ANUmNWX",
     "type":"CODE",
     "hide_input_from_viewers":false,
     "hide_output_from_viewers":false
    }
   }
  },
  {
   "cell_type":"markdown",
   "source":[
    "Classification report"
   ],
   "attachments":{
    
   },
   "metadata":{
    "datalore":{
     "node_id":"Z5wh0JEISe7a4NBn2WcsfN",
     "type":"MD",
     "hide_input_from_viewers":false,
     "hide_output_from_viewers":false
    }
   }
  },
  {
   "cell_type":"code",
   "source":[
    "# importing classification report\n",
    "from sklearn.metrics import classification_report\n",
    "\n",
    "# printing the report\n",
    "print(classification_report(y_test, y_pred1))"
   ],
   "execution_count":12,
   "outputs":[
    {
     "name":"stdout",
     "text":[
      "              precision    recall  f1-score   support\n",
      "\n",
      "           0       0.93      0.94      0.93        68\n",
      "           1       0.87      0.84      0.86        32\n",
      "\n",
      "    accuracy                           0.91       100\n",
      "   macro avg       0.90      0.89      0.90       100\n",
      "weighted avg       0.91      0.91      0.91       100\n",
      "\n"
     ],
     "output_type":"stream"
    }
   ],
   "metadata":{
    "datalore":{
     "node_id":"yyTCkz2n55KQVe6Sr2zhSc",
     "type":"CODE",
     "hide_input_from_viewers":false,
     "hide_output_from_viewers":false
    }
   }
  },
  {
   "cell_type":"markdown",
   "source":[
    "Sample data set"
   ],
   "attachments":{
    
   },
   "metadata":{
    "datalore":{
     "node_id":"mBygLztRrO4uPUvWiscMes",
     "type":"MD",
     "hide_input_from_viewers":false,
     "hide_output_from_viewers":false
    }
   }
  },
  {
   "cell_type":"code",
   "source":[
    "# assigning features and label variables\n",
    "weather = ['Sunny','Sunny','Overcast','Rainy','Rainy','Rainy','Overcast','Sunny','Sunny', 'Rainy','Sunny','Overcast','Overcast','Rainy']\n",
    "\n",
    "# output class\n",
    "play = ['No','No','Yes','Yes','Yes','No','Yes','No','Yes','Yes','Yes','Yes','Yes','No']"
   ],
   "execution_count":13,
   "outputs":[
    
   ],
   "metadata":{
    "datalore":{
     "node_id":"aFtKNljtWXk1T9l8JyVWCp",
     "type":"CODE",
     "hide_input_from_viewers":false,
     "hide_output_from_viewers":false
    }
   }
  },
  {
   "cell_type":"markdown",
   "source":[
    "Encoding"
   ],
   "attachments":{
    
   },
   "metadata":{
    "datalore":{
     "node_id":"kLmpIKc1IwkCgt5qxoB8nv",
     "type":"MD",
     "hide_input_from_viewers":false,
     "hide_output_from_viewers":false
    }
   }
  },
  {
   "cell_type":"code",
   "source":[
    "# Import LabelEncoder\n",
    "from sklearn import preprocessing\n",
    "\n",
    "# creating LabelEncoder\n",
    "labelCode = preprocessing.LabelEncoder()\n",
    "\n",
    "# Converting string labels into numbers.\n",
    "weather_encoded=labelCode.fit_transform(weather)"
   ],
   "execution_count":14,
   "outputs":[
    
   ],
   "metadata":{
    "datalore":{
     "node_id":"bqgA4vU05d8W4ra2cxP7ZV",
     "type":"CODE",
     "hide_input_from_viewers":false,
     "hide_output_from_viewers":false
    }
   }
  },
  {
   "cell_type":"markdown",
   "source":[
    "Printing the encoded values"
   ],
   "attachments":{
    
   },
   "metadata":{
    "datalore":{
     "node_id":"J2oausVqDcxTNby0xctNAw",
     "type":"MD",
     "hide_input_from_viewers":false,
     "hide_output_from_viewers":false
    }
   }
  },
  {
   "cell_type":"code",
   "source":[
    "print(weather_encoded)"
   ],
   "execution_count":15,
   "outputs":[
    {
     "name":"stdout",
     "text":[
      "[2 2 0 1 1 1 0 2 2 1 2 0 0 1]\n"
     ],
     "output_type":"stream"
    }
   ],
   "metadata":{
    "datalore":{
     "node_id":"MVx9HDAnJDdesnaAxZ1sRN",
     "type":"CODE",
     "hide_input_from_viewers":false,
     "hide_output_from_viewers":false
    }
   }
  },
  {
   "cell_type":"markdown",
   "source":[
    "Encoding"
   ],
   "attachments":{
    
   },
   "metadata":{
    "datalore":{
     "node_id":"CGQ6hYyqAsSSZ72nqzKsPS",
     "type":"MD",
     "hide_input_from_viewers":false,
     "hide_output_from_viewers":false
    }
   }
  },
  {
   "cell_type":"code",
   "source":[
    "# import LabelEncoder\n",
    "from sklearn import preprocessing\n",
    "\n",
    "# creating LabelEncoder\n",
    "labelCode = preprocessing.LabelEncoder()\n",
    "\n",
    "# converting string labels into numbers.\n",
    "label=labelCode.fit_transform(play)"
   ],
   "execution_count":16,
   "outputs":[
    
   ],
   "metadata":{
    "datalore":{
     "node_id":"jsvEDni0GUog9ubEHpN2Ag",
     "type":"CODE",
     "hide_input_from_viewers":false,
     "hide_output_from_viewers":false
    }
   }
  },
  {
   "cell_type":"markdown",
   "source":[
    "Generating model"
   ],
   "attachments":{
    
   },
   "metadata":{
    "datalore":{
     "node_id":"ipdREaWUDdySeqQr22BQxs",
     "type":"MD",
     "hide_input_from_viewers":false,
     "hide_output_from_viewers":false
    }
   }
  },
  {
   "cell_type":"markdown",
   "source":[
    "training the model"
   ],
   "attachments":{
    
   },
   "metadata":{
    "datalore":{
     "node_id":"0bM8S7i8Mx7pbsQGxDux8P",
     "type":"MD",
     "hide_input_from_viewers":false,
     "hide_output_from_viewers":false
    }
   }
  },
  {
   "cell_type":"code",
   "source":[
    "# import Gaussian Naive Bayes model\n",
    "from sklearn.naive_bayes import GaussianNB\n",
    "\n",
    "# create a Gaussian Classifier\n",
    "model = GaussianNB()\n",
    "\n",
    "# train the model using the training sets\n",
    "model.fit(weather_encoded, label)"
   ],
   "execution_count":17,
   "outputs":[
    {
     "ename":"ValueError",
     "evalue":"ValueError: Expected 2D array, got 1D array instead:\narray=[2 2 0 1 1 1 0 2 2 1 2 0 0 1].\nReshape your data either using array.reshape(-1, 1) if your data has a single feature or array.reshape(1, -1) if it contains a single sample.",
     "traceback":[
      "\u001b[0;31m---------------------------------------------------------------------------",
      "Traceback (most recent call last)",
      "    at line 8 in <module>",
      "    at line 245 in fit(self, X, y, sample_weight)",
      "    at line 402 in _partial_fit(self, X, y, classes, _refit, sample_weight)",
      "    at line 576 in _validate_data(self, X, y, reset, validate_separately, **check_params)",
      "    at line 956 in check_X_y(X, y, accept_sparse, accept_large_sparse, dtype, order, copy, force_all_finite, ensure_2d, allow_nd, multi_output, ensure_min_samples, ensure_min_features, y_numeric, estimator)",
      "    at line 761 in check_array(array, accept_sparse, accept_large_sparse, dtype, order, copy, force_all_finite, ensure_2d, allow_nd, ensure_min_samples, ensure_min_features, estimator)",
      "ValueError: Expected 2D array, got 1D array instead:\narray=[2 2 0 1 1 1 0 2 2 1 2 0 0 1].\nReshape your data either using array.reshape(-1, 1) if your data has a single feature or array.reshape(1, -1) if it contains a single sample."
     ],
     "output_type":"error"
    }
   ],
   "metadata":{
    "datalore":{
     "node_id":"CJh4ZQZb0pikRMj7qhq1hf",
     "type":"CODE",
     "hide_input_from_viewers":false,
     "hide_output_from_viewers":false
    }
   }
  },
  {
   "cell_type":"markdown",
   "source":[
    "Converting array"
   ],
   "attachments":{
    
   },
   "metadata":{
    "datalore":{
     "node_id":"mglq7KtyVxEqnVrLBGSWjA",
     "type":"MD",
     "hide_input_from_viewers":false,
     "hide_output_from_viewers":false
    }
   }
  },
  {
   "cell_type":"code",
   "source":[
    "# importing numpy module\n",
    "import numpy as np\n",
    "\n",
    "# converting 1D array to 2D\n",
    "weather_2d = np.reshape(weather_encoded, (-1, 1))"
   ],
   "execution_count":147,
   "outputs":[
    
   ],
   "metadata":{
    "datalore":{
     "node_id":"5YfS9JB4yF3bAQ9tFKxT2m",
     "type":"CODE",
     "hide_input_from_viewers":false,
     "hide_output_from_viewers":false
    }
   }
  },
  {
   "cell_type":"markdown",
   "source":[
    "Training the model"
   ],
   "attachments":{
    
   },
   "metadata":{
    "datalore":{
     "node_id":"2bUGvIq8geykxm0WGJGive",
     "type":"MD",
     "hide_input_from_viewers":false,
     "hide_output_from_viewers":false
    }
   }
  },
  {
   "cell_type":"code",
   "source":[
    "# import Gaussian Naive Bayes model\n",
    "from sklearn.naive_bayes import GaussianNB\n",
    "\n",
    "# create a Gaussian Classifier\n",
    "model = GaussianNB()\n",
    "\n",
    "# train the model using the training sets\n",
    "model.fit(weather_2d, label)"
   ],
   "execution_count":148,
   "outputs":[
    {
     "data":{
      "text\/plain":[
       "GaussianNB()"
      ]
     },
     "metadata":{
      
     },
     "output_type":"display_data"
    }
   ],
   "metadata":{
    "datalore":{
     "node_id":"syhCt6CtxZTTH8uoE93EfU",
     "type":"CODE",
     "hide_input_from_viewers":false,
     "hide_output_from_viewers":false
    }
   }
  },
  {
   "cell_type":"markdown",
   "source":[
    "Predicted value"
   ],
   "attachments":{
    
   },
   "metadata":{
    "datalore":{
     "node_id":"7XhJr3VJ4AtcImNrAB2rL5",
     "type":"MD",
     "hide_input_from_viewers":false,
     "hide_output_from_viewers":false
    }
   }
  },
  {
   "cell_type":"code",
   "source":[
    "# predicting the odel\n",
    "predicted= model.predict([[0]]) # 0:Overcast\n",
    "\n",
    "# printing predicted value\n",
    "print(predicted)"
   ],
   "execution_count":149,
   "outputs":[
    {
     "name":"stdout",
     "text":[
      "[1]\n"
     ],
     "output_type":"stream"
    }
   ],
   "metadata":{
    "datalore":{
     "node_id":"mXvLLdZ0UTEbnVIP0Bn2Pl",
     "type":"CODE",
     "hide_input_from_viewers":false,
     "hide_output_from_viewers":false
    }
   }
  }
 ],
 "metadata":{
  "kernelspec":{
   "display_name":"Python",
   "language":"python",
   "name":"python"
  },
  "datalore":{
   "version":1,
   "computation_mode":"JUPYTER",
   "package_manager":"pip",
   "base_environment":"default",
   "packages":[
    
   ]
  }
 },
 "nbformat":4,
 "nbformat_minor":4
}